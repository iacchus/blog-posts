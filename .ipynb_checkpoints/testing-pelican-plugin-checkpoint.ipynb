{
 "cells": [
  {
   "cell_type": "markdown",
   "id": "768adad6-fb76-4db1-ab49-83f6256b573a",
   "metadata": {},
   "source": [
    "- title: My notebook\n",
    "- author: Iacchus M.\n",
    "- date: 2021-12-18\n",
    "- category: pyhton\n",
    "- tags: pip"
   ]
  },
  {
   "cell_type": "code",
   "execution_count": 1,
   "id": "59effca3-4d72-4bc1-a783-a130987315fb",
   "metadata": {},
   "outputs": [
    {
     "data": {
      "text/plain": [
       "2"
      ]
     },
     "execution_count": 1,
     "metadata": {},
     "output_type": "execute_result"
    }
   ],
   "source": [
    "1+1"
   ]
  },
  {
   "cell_type": "code",
   "execution_count": 3,
   "id": "05008649-54c8-46a9-846c-84b1a6120aba",
   "metadata": {},
   "outputs": [],
   "source": [
    "def soma(a: int, b: int) -> int:\n",
    "    return a + b"
   ]
  },
  {
   "cell_type": "code",
   "execution_count": 4,
   "id": "14f68f1f-6a73-414b-b388-fa2273d1226d",
   "metadata": {},
   "outputs": [
    {
     "data": {
      "text/plain": [
       "12"
      ]
     },
     "execution_count": 4,
     "metadata": {},
     "output_type": "execute_result"
    }
   ],
   "source": [
    "soma(a=5, b=7)"
   ]
  },
  {
   "cell_type": "code",
   "execution_count": 5,
   "id": "2946261f-ad8e-4a0e-ab9d-2a5f213ee035",
   "metadata": {},
   "outputs": [
    {
     "data": {
      "text/plain": [
       "27"
      ]
     },
     "execution_count": 5,
     "metadata": {},
     "output_type": "execute_result"
    }
   ],
   "source": [
    "soma(9, 18)"
   ]
  },
  {
   "cell_type": "code",
   "execution_count": null,
   "id": "558e65e5-c133-4df2-bdca-f9285108e848",
   "metadata": {},
   "outputs": [],
   "source": []
  }
 ],
 "metadata": {
  "kernelspec": {
   "display_name": "Python 3 (ipykernel)",
   "language": "python",
   "name": "python3"
  },
  "language_info": {
   "codemirror_mode": {
    "name": "ipython",
    "version": 3
   },
   "file_extension": ".py",
   "mimetype": "text/x-python",
   "name": "python",
   "nbconvert_exporter": "python",
   "pygments_lexer": "ipython3",
   "version": "3.9.7"
  }
 },
 "nbformat": 4,
 "nbformat_minor": 5
}
